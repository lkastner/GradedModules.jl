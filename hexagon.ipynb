{
 "cells": [
  {
   "cell_type": "markdown",
   "metadata": {},
   "source": [
    "# Graded modules over affine toric varieties"
   ]
  },
  {
   "cell_type": "markdown",
   "metadata": {},
   "source": [
    "The overall goal is to look at isolated affine toric singulatity and find all torus invariant MCM divisors.\n",
    "\n",
    "Translated into combinatorics this means the following:\n",
    "- affine toric variety = polyhedral cone $\\sigma$\n",
    "- affine toric singularity = $\\sigma$ is not smooth\n",
    "- isolated singularity = $\\sigma$ has smooth facets\n",
    "- torus invariant divisor = polyhedron $D$ with the same facet vectors as $\\sigma$\n",
    "\n",
    "MCM (maximal Cohen-Macaulay) can be expressed in various forms, we will use the description via $\\mathop{Ext}$, namely that $\\mathop{Ext}^i(D,K)=0$ for all $i>0$. This notebook will solve several tasks related to computing $\\mathop{Ext}$ for these modules and then build on this."
   ]
  },
  {
   "cell_type": "markdown",
   "metadata": {},
   "source": [
    "## The hexagon\n",
    "In this notebook we will only deal with the concrete example of the cone over a hexagon. It is spanned by the six rays $[1,0,0],[1,1,0],[1,2,1],[1,2,2],[1,1,2],[1,0,1]$. This example is already too hard for computer algebra systems, but combinatorial methods should be able to tackle this, if properly implemented and optimized. Hopefully it is general enough such that the code developed can be adapted for other cases."
   ]
  },
  {
   "cell_type": "markdown",
   "metadata": {},
   "source": [
    "## Graded modules in Julia"
   ]
  },
  {
   "cell_type": "markdown",
   "metadata": {},
   "source": [
    "It would be good to have these as some kind of objects. We need the following operations:\n",
    "- $\\mathop{Hom}$\n",
    "- $\\mathop{ker}$ and $\\mathop{im}$\n",
    "- quotients\n",
    "Probably all these will be be given via presentations, i.e. the first part of a free resolution."
   ]
  },
  {
   "cell_type": "markdown",
   "metadata": {},
   "source": []
  },
  {
   "cell_type": "markdown",
   "metadata": {},
   "source": [
    "## Computing $\\mathop{Ext}$"
   ]
  },
  {
   "cell_type": "markdown",
   "metadata": {},
   "source": [
    "This is done in three steps:\n",
    "1. Compute a free resolution of $D$\n",
    "2. Apply $\\mathop{Hom}(\\bullet,K)$ to it\n",
    "3. Take homology\n",
    "With the above operations available this should be fast to implement."
   ]
  },
  {
   "cell_type": "code",
   "execution_count": null,
   "metadata": {},
   "outputs": [],
   "source": []
  }
 ],
 "metadata": {
  "kernelspec": {
   "display_name": "Julia 1.2.0",
   "language": "julia",
   "name": "julia-1.2"
  }
 },
 "nbformat": 4,
 "nbformat_minor": 2
}
